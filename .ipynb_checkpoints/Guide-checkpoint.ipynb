{
 "cells": [
  {
   "cell_type": "markdown",
   "metadata": {
    "editable": true
   },
   "source": [
    "# Instructions\n",
    "\n",
    "To the right you will see 5 console.log statements. Your goal is to have them log to the console in the order that they state without rearanging them. \n",
    "\n",
    "Your solution should include 1 console.log left as is, with the other for using globals available within node.js to run the code at the appropriate time in the event loop. There are multiple ways to accomplish this, but you must use at least 3 different methods.\n",
    "\n",
    "Run the index.js file using node.js to test your work. "
   ]
  },
  {
   "cell_type": "markdown",
   "metadata": {
    "editable": true
   },
   "source": []
  }
 ],
 "metadata": {
  "kernelspec": {
   "display_name": "Python 3",
   "language": "python",
   "name": "python3"
  },
  "language_info": {
   "codemirror_mode": {
    "name": "ipython",
    "version": 3
   },
   "file_extension": ".py",
   "mimetype": "text/x-python",
   "name": "python",
   "nbconvert_exporter": "python",
   "pygments_lexer": "ipython3",
   "version": "3.6.3"
  },
  "ulab_nb_type": "guided"
 },
 "nbformat": 4,
 "nbformat_minor": 4
}
